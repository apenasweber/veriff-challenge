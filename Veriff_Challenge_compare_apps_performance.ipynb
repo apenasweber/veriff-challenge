{
  "nbformat": 4,
  "nbformat_minor": 0,
  "metadata": {
    "colab": {
      "name": "Veriff-Challenge.ipynb",
      "provenance": [],
      "collapsed_sections": []
    },
    "kernelspec": {
      "name": "python3",
      "display_name": "Python 3"
    },
    "language_info": {
      "name": "python"
    }
  },
  "cells": [
    {
      "cell_type": "markdown",
      "metadata": {
        "id": "jeJ8pPBi5K5l"
      },
      "source": [
        "# ORIGINAL APP"
      ]
    },
    {
      "cell_type": "code",
      "metadata": {
        "id": "5YWcrQQv9JbD",
        "colab": {
          "base_uri": "https://localhost:8080/"
        },
        "outputId": "94ea5e46-87ac-4bd8-c50a-e1d93a138758"
      },
      "source": [
        "import os\n",
        "import tensorflow.compat.v2 as tf\n",
        "import tensorflow_hub as hub\n",
        "import cv2\n",
        "import urllib.request\n",
        "import numpy as np\n",
        "import time\n",
        "\n",
        "# Getting some unknown linter errors, disable everything to get this to production asap\n",
        "# pylint: disable-all\n",
        "\n",
        "os.environ['TF_CPP_MIN_LOG_LEVEL'] = '1'  # Disable Tensorflow logging\n",
        "\n",
        "model_url = 'https://tfhub.dev/google/aiy/vision/classifier/birds_V1/1'\n",
        "labels_url = 'https://www.gstatic.com/aihub/tfhub/labelmaps/aiy_birds_V1_labelmap.csv'\n",
        "\n",
        "image_urls = [\n",
        "    'https://upload.wikimedia.org/wikipedia/commons/c/c8/Phalacrocorax_varius_-Waikawa%2C_Marlborough%2C_New_Zealand-8.jpg',\n",
        "    'https://quiz.natureid.no/bird/db_media/eBook/679edc606d9a363f775dabf0497d31de8c3d7060.jpg',\n",
        "    'https://upload.wikimedia.org/wikipedia/commons/8/81/Eumomota_superciliosa.jpg',\n",
        "    'https://i.pinimg.com/originals/f3/fb/92/f3fb92afce5ddff09a7370d90d021225.jpg',\n",
        "    'https://cdn.britannica.com/77/189277-004-0A3BC3D4.jpg'\n",
        "]\n",
        "\n",
        "\n",
        "class BirdClassifier:\n",
        "    @staticmethod\n",
        "    def load_model():\n",
        "        return hub.KerasLayer(model_url)\n",
        "\n",
        "    def load_and_cleanup_labels(self):\n",
        "        bird_labels_raw = urllib.request.urlopen(labels_url)\n",
        "        bird_labels_lines = [line.decode('utf-8').replace('\\n', '') for line in bird_labels_raw.readlines()]\n",
        "        bird_labels_lines.pop(0)  # remove header (id, name)\n",
        "        birds = {}\n",
        "        for bird_line in bird_labels_lines:\n",
        "            bird_id = int(bird_line.split(',')[0])\n",
        "            bird_name = bird_line.split(',')[1]\n",
        "            birds[bird_id] = {'name': bird_name}\n",
        "\n",
        "        return birds\n",
        "\n",
        "    def order_birds_by_result_score(self, model_raw_output, bird_labels):\n",
        "        for index, value in np.ndenumerate(model_raw_output):\n",
        "            bird_index = index[1]\n",
        "            bird_labels[bird_index]['score'] = value\n",
        "\n",
        "        return sorted(bird_labels.items(), key=lambda x: x[1]['score'])\n",
        "\n",
        "    def get_top_n_result(self, top_index, birds_names_with_results_ordered):\n",
        "        bird_name = birds_names_with_results_ordered[top_index*(-1)][1]['name']\n",
        "        bird_score = birds_names_with_results_ordered[top_index*(-1)][1]['score']\n",
        "        return bird_name, bird_score\n",
        "\n",
        "    def main(self):\n",
        "        for index, image_url in enumerate(image_urls):\n",
        "            bird_model = self.load_model()\n",
        "            bird_labels = self.load_and_cleanup_labels()\n",
        "            # Loading images\n",
        "            image_get_response = urllib.request.urlopen(image_url)\n",
        "            image_array = np.asarray(bytearray(image_get_response.read()), dtype=np.uint8)\n",
        "            # Changing images\n",
        "            image = cv2.imdecode(image_array, cv2.IMREAD_COLOR)\n",
        "            image = cv2.resize(image, (224, 224))\n",
        "            image = cv2.cvtColor(image, cv2.COLOR_BGR2RGB)\n",
        "            image = image / 255\n",
        "            # Generate tensor\n",
        "            image_tensor = tf.convert_to_tensor(image, dtype=tf.float32)\n",
        "            image_tensor = tf.expand_dims(image_tensor, 0)\n",
        "            model_raw_output = bird_model.call(image_tensor).numpy()\n",
        "            birds_names_with_results_ordered = self.order_birds_by_result_score(model_raw_output, bird_labels)\n",
        "            # Print results to kubernetes log\n",
        "            print(f'Run: {int(index + 1)}')\n",
        "            bird_name, bird_score = self.get_top_n_result(1, birds_names_with_results_ordered)\n",
        "            print(f'Top match: \"{bird_name}\" with score: {bird_score}')\n",
        "            bird_name, bird_score = self.get_top_n_result(2, birds_names_with_results_ordered)\n",
        "            print(f'Second match: \"{bird_name}\" with score: {bird_score}')\n",
        "            bird_name, bird_score = self.get_top_n_result(3, birds_names_with_results_ordered)\n",
        "            print(f'Third match: \"{bird_name}\" with score: {bird_score}')\n",
        "            print('\\n')\n",
        "\n",
        "\n",
        "if __name__ == \"__main__\":\n",
        "    start_time = time.time()\n",
        "    classifier = BirdClassifier()\n",
        "    classifier.main()\n",
        "    original_app_total_time = time.time() - start_time\n",
        "    print(f'Total Time spent: {original_app_total_time}')\n"
      ],
      "execution_count": 1,
      "outputs": [
        {
          "output_type": "stream",
          "name": "stdout",
          "text": [
            "INFO:tensorflow:Saver not created because there are no variables in the graph to restore\n"
          ]
        },
        {
          "output_type": "stream",
          "name": "stderr",
          "text": [
            "INFO:tensorflow:Saver not created because there are no variables in the graph to restore\n"
          ]
        },
        {
          "output_type": "stream",
          "name": "stdout",
          "text": [
            "Run: 1\n",
            "Top match: \"Phalacrocorax varius varius\" with score: 0.8514963388442993\n",
            "Second match: \"Phalacrocorax varius\" with score: 0.10839517414569855\n",
            "Third match: \"Microcarbo melanoleucos\" with score: 0.024574540555477142\n",
            "\n",
            "\n",
            "INFO:tensorflow:Saver not created because there are no variables in the graph to restore\n"
          ]
        },
        {
          "output_type": "stream",
          "name": "stderr",
          "text": [
            "INFO:tensorflow:Saver not created because there are no variables in the graph to restore\n"
          ]
        },
        {
          "output_type": "stream",
          "name": "stdout",
          "text": [
            "Run: 2\n",
            "Top match: \"Galerida cristata\" with score: 0.8397941589355469\n",
            "Second match: \"Alauda arvensis\" with score: 0.08347942680120468\n",
            "Third match: \"Eremophila alpestris\" with score: 0.018925819545984268\n",
            "\n",
            "\n",
            "INFO:tensorflow:Saver not created because there are no variables in the graph to restore\n"
          ]
        },
        {
          "output_type": "stream",
          "name": "stderr",
          "text": [
            "INFO:tensorflow:Saver not created because there are no variables in the graph to restore\n"
          ]
        },
        {
          "output_type": "stream",
          "name": "stdout",
          "text": [
            "Run: 3\n",
            "Top match: \"Eumomota superciliosa\" with score: 0.39187300205230713\n",
            "Second match: \"Momotus coeruliceps\" with score: 0.0541725680232048\n",
            "Third match: \"Momotus lessonii\" with score: 0.04593731462955475\n",
            "\n",
            "\n",
            "INFO:tensorflow:Saver not created because there are no variables in the graph to restore\n"
          ]
        },
        {
          "output_type": "stream",
          "name": "stderr",
          "text": [
            "INFO:tensorflow:Saver not created because there are no variables in the graph to restore\n"
          ]
        },
        {
          "output_type": "stream",
          "name": "stdout",
          "text": [
            "Run: 4\n",
            "Top match: \"Aulacorhynchus prasinus\" with score: 0.8047329783439636\n",
            "Second match: \"Cyanocorax yncas\" with score: 0.11124633252620697\n",
            "Third match: \"Chlorophanes spiza\" with score: 0.014161618426442146\n",
            "\n",
            "\n",
            "INFO:tensorflow:Saver not created because there are no variables in the graph to restore\n"
          ]
        },
        {
          "output_type": "stream",
          "name": "stderr",
          "text": [
            "INFO:tensorflow:Saver not created because there are no variables in the graph to restore\n"
          ]
        },
        {
          "output_type": "stream",
          "name": "stdout",
          "text": [
            "Run: 5\n",
            "Top match: \"Erithacus rubecula\" with score: 0.8476535081863403\n",
            "Second match: \"Ixoreus naevius\" with score: 0.0033818541560322046\n",
            "Third match: \"Setophaga tigrina\" with score: 0.00243179639801383\n",
            "\n",
            "\n",
            "Total Time spent: 16.99318242073059\n"
          ]
        }
      ]
    },
    {
      "cell_type": "markdown",
      "metadata": {
        "id": "0g700h8g5EQ3"
      },
      "source": [
        "# CURRENTLY APP"
      ]
    },
    {
      "cell_type": "code",
      "metadata": {
        "colab": {
          "base_uri": "https://localhost:8080/"
        },
        "id": "3b5-IJLT4jpO",
        "outputId": "abd37ed0-997a-4457-9c3d-f3894caf8af7"
      },
      "source": [
        "import logging\n",
        "import os\n",
        "import time\n",
        "import urllib.request\n",
        "from datetime import datetime\n",
        "\n",
        "import cv2\n",
        "import numpy as np\n",
        "import tensorflow.compat.v2 as tf\n",
        "import tensorflow_hub as hub\n",
        "\n",
        "# Getting some unknown linter errors, disable everything to get this to production asap\n",
        "# pylint: disable-all\n",
        "\n",
        "\n",
        "class ImageClassifier:\n",
        "    \"\"\"\n",
        "    Image Classifier class for machine learning image predictions.\n",
        "    \"\"\"\n",
        "\n",
        "    def __init__(self, model_url, labels_url, image_urls, load_from_local=False):\n",
        "        logging.basicConfig(filename=\"birdclassifier.log\", level=logging.INFO)\n",
        "        \"\"\"\n",
        "        Initialize the image classifier\n",
        "        \"\"\"\n",
        "        self.model_url = model_url\n",
        "        self.labels_url = labels_url\n",
        "        self.image_urls = image_urls\n",
        "\n",
        "        # Calculate the total time to functions\n",
        "        self.load_from_local = load_from_local\n",
        "        self.total_time_load_images = 0.0\n",
        "        self.total_time_preprocess_images = 0.0\n",
        "        self.total_time_prediction_model = 0.0\n",
        "        self.total_time_cleaning_labels = 0.0\n",
        "        self.total_time_downloading_model = 0.0\n",
        "\n",
        "    def load_model_from_tf_hub(self, model_url):\n",
        "        \"\"\"\n",
        "        Load the model from the tensorflow hub\n",
        "        \"\"\"\n",
        "        start_time = time.time()\n",
        "        self.total_time_downloading_model += time.time() - start_time\n",
        "        return hub.KerasLayer(model_url)\n",
        "\n",
        "    def load_labels(self):\n",
        "        \"\"\"\n",
        "        Load the labels from the labels url\n",
        "        \"\"\"\n",
        "        return self.labels_url\n",
        "\n",
        "    def clean_header_labels(self, labels_url):\n",
        "        \"\"\"\n",
        "        Clean the header labels\n",
        "        \"\"\"\n",
        "        start_time = time.time()\n",
        "        labels_raw = urllib.request.urlopen(labels_url)\n",
        "        labels_lines = [\n",
        "            line.decode(\"utf-8\").replace(\"\\n\", \"\") for line in labels_raw.readlines()\n",
        "        ]\n",
        "        labels_lines.pop(0)  # remove header (id, name, ...)\n",
        "        cleaned_labels = {}\n",
        "        for line in labels_lines:\n",
        "            id = int(line.split(\",\")[0])\n",
        "            name = line.split(\",\")[1]\n",
        "            cleaned_labels[id] = {\"name\": name}\n",
        "        self.total_time_cleaning_labels += time.time() - start_time\n",
        "        return cleaned_labels\n",
        "\n",
        "    def load_image_by_url(self, image_url):\n",
        "        \"\"\"\n",
        "        Load the image from the image url\n",
        "        \"\"\"\n",
        "        start_time = time.time()\n",
        "        image_get_response = urllib.request.urlopen(image_url)\n",
        "        image_array = np.asarray(bytearray(image_get_response.read()), dtype=\"uint8\")\n",
        "        image = cv2.imdecode(image_array, cv2.IMREAD_COLOR)\n",
        "        image = cv2.resize(image, (224, 224))\n",
        "        image = cv2.cvtColor(image, cv2.COLOR_BGR2RGB)\n",
        "        self.total_time_load_images += time.time() - start_time\n",
        "        return image / 255\n",
        "\n",
        "    def load_image_by_path(self, image_path):\n",
        "        \"\"\"\n",
        "        Load the image from the image path\n",
        "        \"\"\"\n",
        "        start_time = time.time()\n",
        "        image = cv2.imread(image_path)\n",
        "        image = cv2.resize(image, (224, 224))\n",
        "        image = cv2.cvtColor(image, cv2.COLOR_BGR2RGB)\n",
        "        self.total_time_load_images += time.time() - start_time\n",
        "        return image / 255\n",
        "\n",
        "    def preprocess_image(self, model, image, labels_url):\n",
        "        \"\"\"\n",
        "        Preprocess the image to generate tensor\n",
        "        \"\"\"\n",
        "        start_time = time.time()\n",
        "        image_tensor = tf.convert_to_tensor(image, dtype=tf.float32)\n",
        "        image_tensor = tf.expand_dims(image_tensor, 0)\n",
        "        model_raw_output = model.call(image_tensor).numpy()\n",
        "        self.total_time_preprocess_images += time.time() - start_time\n",
        "        return self.order_by_result_score(model_raw_output, labels_url)\n",
        "\n",
        "    def order_by_result_score(self, model_raw_output, cleaned_labels):\n",
        "        \"\"\"\n",
        "        Order the results by score based on model raw output and cleaned labels\n",
        "        \"\"\"\n",
        "        start_time = time.time()\n",
        "        for index, value in np.ndenumerate(model_raw_output):\n",
        "            result_index = index[1]\n",
        "            cleaned_labels[result_index][\"score\"] = value\n",
        "        self.total_time_prediction_model += time.time() - start_time\n",
        "        return sorted(cleaned_labels.items(), key=lambda x: x[1][\"score\"])\n",
        "\n",
        "    def get_top_n_results(self, top_index, order_by_result_score):\n",
        "        \"\"\"\n",
        "        Get the top n results based on result score\n",
        "        \"\"\"\n",
        "        name = order_by_result_score[top_index * (-1)][1][\"name\"]\n",
        "        score = order_by_result_score[top_index * (-1)][1][\"score\"]\n",
        "        return name, score\n",
        "\n",
        "\n",
        "class BirdClassifier(ImageClassifier):\n",
        "    \"\"\"\n",
        "    Bird Classifier class for machine learning image predictions based on birds.\n",
        "    \"\"\"\n",
        "\n",
        "    BIRD_MODEL = \"https://tfhub.dev/google/aiy/vision/classifier/birds_V1/1\"\n",
        "\n",
        "    def __init__(self, labels_url, image_urls):\n",
        "        \"\"\"\n",
        "        Initialize the bird classifier\n",
        "        \"\"\"\n",
        "        ImageClassifier.__init__(\n",
        "            self, BirdClassifier.BIRD_MODEL, labels_url, image_urls\n",
        "        )\n",
        "\n",
        "    def main(self):\n",
        "        \"\"\"\n",
        "        Main function\n",
        "        \"\"\"\n",
        "        logging.info(f\"Starting the bird classifier at {datetime.now()}\")\n",
        "        for index, image_url in enumerate(birds_image_urls):\n",
        "            bird_model = self.load_model_from_tf_hub(self.model_url)\n",
        "            bird_labels = self.clean_header_labels(birds_labels_url)\n",
        "            # Loading the image from the url or path\n",
        "            if not self.load_from_local:\n",
        "                image = self.load_image_by_url(image_url)\n",
        "            else:\n",
        "                image = self.load_image_by_path(image_url)\n",
        "            # Generate tensor\n",
        "            birds_names_with_results_ordered = self.preprocess_image(\n",
        "                bird_model, image, bird_labels\n",
        "            )\n",
        "            print(\"*******************************************\")\n",
        "            logging.info(f\"Run: {int(index + 1)}\")\n",
        "            logging.info(f\"Image: {image_url}\")\n",
        "            bird_name, bird_score = self.get_top_n_results(\n",
        "                1, birds_names_with_results_ordered\n",
        "            )\n",
        "            print(f'Top match: \"{bird_name}\" with score: {bird_score:.2f}%')\n",
        "            logging.info(f'Top match: \"{bird_name}\" with score: {bird_score:.2f}%')\n",
        "            logging.info(f\"Run: {int(index + 1)}\")\n",
        "            logging.info(f\"Image: {image_url}\")\n",
        "            bird_name, bird_score = self.get_top_n_results(\n",
        "                2, birds_names_with_results_ordered\n",
        "            )\n",
        "            print(f'Second match: \"{bird_name}\" with score: {bird_score:.2f}%')\n",
        "            logging.info(f\"Run: {int(index + 1)}\")\n",
        "            logging.info(f\"Image: {image_url}\")\n",
        "            bird_name, bird_score = self.get_top_n_results(\n",
        "                3, birds_names_with_results_ordered\n",
        "            )\n",
        "            print(f'Third match: \"{bird_name}\" with score: {bird_score:.2f}%')\n",
        "            logging.info(f\"Run: {int(index + 1)}\")\n",
        "            logging.info(f\"Image: {image_url}\")\n",
        "            print(\"*******************************************\")\n",
        "            logging.info(f\"Total time load images: {self.total_time_load_images}\")\n",
        "            logging.info(\n",
        "                f\"Total time preprocess images: {self.total_time_preprocess_images}\"\n",
        "            )\n",
        "            logging.info(\n",
        "                f\"Total time prediction model: {self.total_time_prediction_model}\"\n",
        "            )\n",
        "\n",
        "\n",
        "if __name__ == \"__main__\":\n",
        "    birds_labels_url = (\n",
        "        \"https://www.gstatic.com/aihub/tfhub/labelmaps/aiy_birds_V1_labelmap.csv\"\n",
        "    )\n",
        "    birds_image_urls = [\n",
        "        \"https://upload.wikimedia.org/wikipedia/commons/c/c8/Phalacrocorax_varius_-Waikawa%2C_Marlborough%2C_New_Zealand-8.jpg\",\n",
        "        \"https://quiz.natureid.no/bird/db_media/eBook/679edc606d9a363f775dabf0497d31de8c3d7060.jpg\",\n",
        "        \"https://upload.wikimedia.org/wikipedia/commons/8/81/Eumomota_superciliosa.jpg\",\n",
        "        \"https://i.pinimg.com/originals/f3/fb/92/f3fb92afce5ddff09a7370d90d021225.jpg\",\n",
        "        \"https://cdn.britannica.com/77/189277-004-0A3BC3D4.jpg\",\n",
        "    ]\n",
        "    start_time = time.time()\n",
        "    classifier = BirdClassifier(\n",
        "        labels_url=birds_labels_url, image_urls=birds_image_urls\n",
        "    )\n",
        "    classifier.main()\n",
        "    currently_app_total_time = time.time() - start_time\n",
        "    performance_percentage_difference = (\n",
        "        (original_app_total_time - currently_app_total_time)\n",
        "        / original_app_total_time\n",
        "        * 100\n",
        "    )\n",
        "    print(f\"Total Time spent(original app): {original_app_total_time:.2f}s\")\n",
        "    print(f\"Total Time spent(currently app): {currently_app_total_time:.2f}s\")\n",
        "    print(\n",
        "        f\"{performance_percentage_difference:.2f}% better performance than original classifier.py\"\n",
        "    )\n",
        "    print(f\"Time spent loading images: {classifier.total_time_load_images:.2f}s\")\n",
        "    print(\n",
        "        f\"Time spent preprocessing images: {classifier.total_time_preprocess_images:.2f}s\"\n",
        "    )\n",
        "    print(f\"Time spent cleaning labels: {classifier.total_time_cleaning_labels:.2f}s\")\n",
        "    print(f\"Time spent predicting model: {classifier.total_time_prediction_model:.4f}s\")\n",
        "    print(\n",
        "        f\"Time spent downloading models: {classifier.total_time_downloading_model:.4f}s\"\n",
        "    )\n"
      ],
      "execution_count": 2,
      "outputs": [
        {
          "output_type": "stream",
          "name": "stdout",
          "text": [
            "INFO:tensorflow:Saver not created because there are no variables in the graph to restore\n"
          ]
        },
        {
          "output_type": "stream",
          "name": "stderr",
          "text": [
            "INFO:tensorflow:Saver not created because there are no variables in the graph to restore\n"
          ]
        },
        {
          "output_type": "stream",
          "name": "stdout",
          "text": [
            "*******************************************\n",
            "Top match: \"Phalacrocorax varius varius\" with score: 0.85%\n",
            "Second match: \"Phalacrocorax varius\" with score: 0.11%\n",
            "Third match: \"Microcarbo melanoleucos\" with score: 0.02%\n",
            "*******************************************\n",
            "INFO:tensorflow:Saver not created because there are no variables in the graph to restore\n"
          ]
        },
        {
          "output_type": "stream",
          "name": "stderr",
          "text": [
            "INFO:tensorflow:Saver not created because there are no variables in the graph to restore\n"
          ]
        },
        {
          "output_type": "stream",
          "name": "stdout",
          "text": [
            "*******************************************\n",
            "Top match: \"Galerida cristata\" with score: 0.84%\n",
            "Second match: \"Alauda arvensis\" with score: 0.08%\n",
            "Third match: \"Eremophila alpestris\" with score: 0.02%\n",
            "*******************************************\n",
            "INFO:tensorflow:Saver not created because there are no variables in the graph to restore\n"
          ]
        },
        {
          "output_type": "stream",
          "name": "stderr",
          "text": [
            "INFO:tensorflow:Saver not created because there are no variables in the graph to restore\n"
          ]
        },
        {
          "output_type": "stream",
          "name": "stdout",
          "text": [
            "*******************************************\n",
            "Top match: \"Eumomota superciliosa\" with score: 0.39%\n",
            "Second match: \"Momotus coeruliceps\" with score: 0.05%\n",
            "Third match: \"Momotus lessonii\" with score: 0.05%\n",
            "*******************************************\n",
            "INFO:tensorflow:Saver not created because there are no variables in the graph to restore\n"
          ]
        },
        {
          "output_type": "stream",
          "name": "stderr",
          "text": [
            "INFO:tensorflow:Saver not created because there are no variables in the graph to restore\n"
          ]
        },
        {
          "output_type": "stream",
          "name": "stdout",
          "text": [
            "*******************************************\n",
            "Top match: \"Aulacorhynchus prasinus\" with score: 0.80%\n",
            "Second match: \"Cyanocorax yncas\" with score: 0.11%\n",
            "Third match: \"Chlorophanes spiza\" with score: 0.01%\n",
            "*******************************************\n",
            "INFO:tensorflow:Saver not created because there are no variables in the graph to restore\n"
          ]
        },
        {
          "output_type": "stream",
          "name": "stderr",
          "text": [
            "INFO:tensorflow:Saver not created because there are no variables in the graph to restore\n"
          ]
        },
        {
          "output_type": "stream",
          "name": "stdout",
          "text": [
            "*******************************************\n",
            "Top match: \"Erithacus rubecula\" with score: 0.85%\n",
            "Second match: \"Ixoreus naevius\" with score: 0.00%\n",
            "Third match: \"Setophaga tigrina\" with score: 0.00%\n",
            "*******************************************\n",
            "Total Time spent(original app): 16.99s\n",
            "Total Time spent(currently app): 16.17s\n",
            "4.82% better performance than original classifier.py\n",
            "Time spent loading images: 1.69s\n",
            "Time spent preprocessing images: 2.60s\n",
            "Time spent cleaning labels: 0.07s\n",
            "Time spent predicting model: 0.0030s\n",
            "Time spent downloading models: 0.0000s\n"
          ]
        }
      ]
    },
    {
      "cell_type": "code",
      "metadata": {
        "colab": {
          "base_uri": "https://localhost:8080/"
        },
        "id": "7H0y7AD35Jc9",
        "outputId": "e771b429-8c7d-4985-ea78-62e88defa526"
      },
      "source": [
        "if currently_app_total_time < original_app_total_time:\n",
        "  print(\n",
        "          f\"{performance_percentage_difference:.2f}% better performance than original classifier.py\"\n",
        "      )\n",
        "elif currently_app_total_time > original_app_total_time:\n",
        "  print(\n",
        "          f\"{performance_percentage_difference:.2f}% worst performance than original classifier.py\"\n",
        "      )\n",
        "else:\n",
        "  print(\"Not different performance.\")"
      ],
      "execution_count": 4,
      "outputs": [
        {
          "output_type": "stream",
          "name": "stdout",
          "text": [
            "4.82% better performance than original classifier.py\n"
          ]
        }
      ]
    }
  ]
}